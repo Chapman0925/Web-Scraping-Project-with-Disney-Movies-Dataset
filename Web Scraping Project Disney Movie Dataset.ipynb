{
 "cells": [
  {
   "cell_type": "code",
   "execution_count": 41,
   "id": "178a8128",
   "metadata": {},
   "outputs": [],
   "source": [
    "from bs4 import BeautifulSoup as bs\n",
    "import requests\n",
    "import re\n",
    "import pandas as pd"
   ]
  },
  {
   "cell_type": "code",
   "execution_count": 48,
   "id": "e95cc8ad",
   "metadata": {},
   "outputs": [],
   "source": [
    "r= requests.get('https://en.wikipedia.org/wiki/Toy_Story_3')\n",
    "wiki= bs(r.content)"
   ]
  },
  {
   "cell_type": "markdown",
   "id": "46748a9d",
   "metadata": {},
   "source": [
    "## 1. Scrapping the infobox on the Toy Story 3  Wiki Page"
   ]
  },
  {
   "cell_type": "code",
   "execution_count": 49,
   "id": "751d8a97",
   "metadata": {},
   "outputs": [],
   "source": [
    "info=wiki.find('table', attrs={'class':'infobox vevent'})\n",
    "info_rows=info.find_all('tr')"
   ]
  },
  {
   "cell_type": "code",
   "execution_count": 4,
   "id": "c9d94eb2",
   "metadata": {},
   "outputs": [
    {
     "data": {
      "text/plain": [
       "{'Title': 'Toy Story 3',\n",
       " 'Directed by': 'Lee Unkrich',\n",
       " 'Screenplay by': 'Michael Arndt',\n",
       " 'Story by': ['John Lasseter', 'Andrew Stanton', 'Lee Unkrich'],\n",
       " 'Produced by': 'Darla K. Anderson',\n",
       " 'Starring': ['Tom Hanks',\n",
       "  'Tim Allen',\n",
       "  'Joan Cusack',\n",
       "  'Don Rickles',\n",
       "  'Wallace Shawn',\n",
       "  'John Ratzenberger',\n",
       "  'Estelle Harris',\n",
       "  'Ned Beatty',\n",
       "  'Michael Keaton',\n",
       "  'Jodi Benson',\n",
       "  'John Morris'],\n",
       " 'Cinematography': ['Jeremy Lasky', 'Kim White'],\n",
       " 'Edited by': 'Ken Schretzmann',\n",
       " 'Music by': 'Randy Newman',\n",
       " 'Production companies': ['Walt Disney Pictures', 'Pixar Animation Studios'],\n",
       " 'Distributed by': 'Walt Disney Studios Motion Pictures',\n",
       " 'Release dates': ['June 12, 2010 ( 2010-06-12 ) ( Taormina Film Fest )',\n",
       "  'June 18, 2010 ( 2010-06-18 ) (United States)'],\n",
       " 'Running time': '103 minutes [1]',\n",
       " 'Country': 'United States',\n",
       " 'Language': 'English',\n",
       " 'Budget': '$200 million [1]',\n",
       " 'Box office': '$1.067 billion [1]'}"
      ]
     },
     "execution_count": 4,
     "metadata": {},
     "output_type": "execute_result"
    }
   ],
   "source": [
    "def get_content_value(x):\n",
    "    if x.find('li'):\n",
    "        return [y.get_text(' ',strip=True).replace('\\xa0',' ') for y in x.find_all('li')]\n",
    "    else:\n",
    "        return x.get_text(' ',strip=True).replace('\\xa0',' ')\n",
    "    \n",
    "movie_info = {}\n",
    "\n",
    "for index,element in enumerate(info_rows):\n",
    "    if index == 0:\n",
    "        movie_info['Title']= element.find('th').get_text(' ',strip=True)\n",
    "    elif index == 1:\n",
    "        continue\n",
    "    else:\n",
    "        content_key= element.find('th').get_text(' ',strip=True)\n",
    "        content_value= get_content_value(element.find('td'))\n",
    "        movie_info[content_key]= content_value\n",
    "        \n",
    "movie_info"
   ]
  },
  {
   "cell_type": "markdown",
   "id": "78702e8f",
   "metadata": {},
   "source": [
    "## 2. Scrapping All the Movies'infobox from Wiki Diney Movies List"
   ]
  },
  {
   "cell_type": "code",
   "execution_count": 47,
   "id": "c70ef84c",
   "metadata": {},
   "outputs": [],
   "source": [
    "r= requests.get('https://en.wikipedia.org/wiki/List_of_Walt_Disney_Pictures_films')\n",
    "wiki2=bs(r.content)"
   ]
  },
  {
   "cell_type": "code",
   "execution_count": 7,
   "id": "ea592368",
   "metadata": {},
   "outputs": [
    {
     "data": {
      "text/plain": [
       "'/wiki/Snow_White_and_the_Seven_Dwarfs_(1937_film)'"
      ]
     },
     "execution_count": 7,
     "metadata": {},
     "output_type": "execute_result"
    }
   ],
   "source": [
    "movies= wiki2.select('.wikitable.sortable i')\n",
    "movies[0].a['href']"
   ]
  },
  {
   "cell_type": "code",
   "execution_count": 8,
   "id": "68463f4a",
   "metadata": {},
   "outputs": [],
   "source": [
    "def get_content_value(x):\n",
    "    if x.find('li'):\n",
    "        return [y.get_text(' ',strip=True).replace('\\xa0',' ') for y in x.find_all('li')]\n",
    "    elif x.find('br'):\n",
    "        return [text for text in x.stripped_strings]\n",
    "        \n",
    "    else:\n",
    "        return x.get_text(' ',strip=True).replace('\\xa0',' ')\n",
    "    \n",
    "    \n",
    "def clear_tag(links):\n",
    "    for x in links.find_all(['sup','span']):\n",
    "        x.decompose()\n",
    "\n",
    "def get_infobox(url):\n",
    "    \n",
    "    r= requests.get(url)\n",
    "    links= bs(r.content)\n",
    "    info=links.find('table', attrs={'class':'infobox vevent'})\n",
    "    info_rows=info.find_all('tr')\n",
    "\n",
    "    clear_tag(links)\n",
    "\n",
    "    movie_info = {}\n",
    "\n",
    "    for index,element in enumerate(info_rows):\n",
    "        if index == 0:\n",
    "            movie_info['Title']= element.find('th').get_text(' ',strip=True)\n",
    "        \n",
    "        else:\n",
    "            header=element.find('th')\n",
    "            if header:\n",
    "                content_key= element.find('th').get_text(' ',strip=True)\n",
    "                content_value= get_content_value(element.find('td'))\n",
    "                movie_info[content_key]= content_value\n",
    "    \n",
    "    return movie_info"
   ]
  },
  {
   "cell_type": "code",
   "execution_count": 9,
   "id": "4f4a1097",
   "metadata": {},
   "outputs": [
    {
     "data": {
      "text/plain": [
       "{'Title': 'One Little Indian',\n",
       " 'Directed by': 'Bernard McEveety',\n",
       " 'Written by': 'Harry Spalding',\n",
       " 'Produced by': 'Winston Hibler',\n",
       " 'Starring': ['James Garner',\n",
       "  'Vera Miles',\n",
       "  'Pat Hingle',\n",
       "  \"Clay O'Brien\",\n",
       "  'John Doucette',\n",
       "  'Morgan Woodward',\n",
       "  'Andrew Prine'],\n",
       " 'Cinematography': 'Charles F. Wheeler',\n",
       " 'Edited by': 'Robert Stafford',\n",
       " 'Music by': 'Jerry Goldsmith',\n",
       " 'Production company': 'Walt Disney Productions',\n",
       " 'Distributed by': 'Buena Vista Distribution',\n",
       " 'Release date': ['June 20, 1973'],\n",
       " 'Running time': '90 Minutes',\n",
       " 'Country': 'United States',\n",
       " 'Language': 'English',\n",
       " 'Box office': '$2 million'}"
      ]
     },
     "execution_count": 9,
     "metadata": {},
     "output_type": "execute_result"
    }
   ],
   "source": [
    "get_infobox('https://en.wikipedia.org/wiki/One_Little_Indian_(film)')"
   ]
  },
  {
   "cell_type": "code",
   "execution_count": 10,
   "id": "5f404de7",
   "metadata": {},
   "outputs": [
    {
     "name": "stdout",
     "output_type": "stream",
     "text": [
      "Zorro the Avenger\n",
      "'NoneType' object has no attribute 'find'\n",
      "The Sign of Zorro\n",
      "'NoneType' object has no attribute 'find'\n",
      "The Beatles: Get Back – The Rooftop Concert\n",
      "'NoneType' object has no attribute 'find'\n",
      "Elemental\n",
      "'NoneType' object has no attribute 'find_all'\n",
      "Wish\n",
      "'NoneType' object has no attribute 'find_all'\n",
      "Elio\n",
      "'NoneType' object has no attribute 'find_all'\n",
      "61\n",
      "'NoneType' object has no attribute 'find_all'\n",
      "All Night Long\n",
      "'NoneType' object has no attribute 'find'\n",
      "Big Thunder Mountain Railroad\n",
      "'NoneType' object has no attribute 'find_all'\n",
      "Keeper of the Lost Cities\n",
      "'NoneType' object has no attribute 'find_all'\n",
      "Muppet Man\n",
      "'NoneType' object has no attribute 'find_all'\n",
      "One Thousand and One Nights\n",
      "'NoneType' object has no attribute 'find_all'\n",
      "Shrunk\n",
      "'NoneType' object has no attribute 'find'\n",
      "Sister Act 3\n",
      "'NoneType' object has no attribute 'find'\n",
      "The Graveyard Book\n",
      "'NoneType' object has no attribute 'find_all'\n",
      "The Thief\n",
      "'NoneType' object has no attribute 'find_all'\n",
      "Tom Sawyer\n",
      "'NoneType' object has no attribute 'find_all'\n",
      "Tower of Terror\n",
      "'NoneType' object has no attribute 'find_all'\n",
      "Tron: Ares\n",
      "'NoneType' object has no attribute 'find'\n",
      "FC Barcelona\n",
      "'NoneType' object has no attribute 'find_all'\n",
      "Figment\n",
      "'NoneType' object has no attribute 'find_all'\n"
     ]
    }
   ],
   "source": [
    "r= requests.get('https://en.wikipedia.org/wiki/List_of_Walt_Disney_Pictures_films')\n",
    "wiki2=bs(r.content)\n",
    "movies= wiki2.select('.wikitable.sortable i a')\n",
    "\n",
    "base_path=\"https://en.wikipedia.org/\"\n",
    "\n",
    "movie_lists=[]\n",
    "\n",
    "for index,movie in enumerate(movies):\n",
    "    \n",
    "    \n",
    "    try:\n",
    "        site = movie['href']\n",
    "        full_path = base_path + site\n",
    "        \n",
    "        \n",
    "        movie_lists.append(get_infobox(full_path))\n",
    "    \n",
    "    except Exception as e:\n",
    "        print(movie.get_text())\n",
    "        print(e)"
   ]
  },
  {
   "cell_type": "code",
   "execution_count": 11,
   "id": "c21140a3",
   "metadata": {},
   "outputs": [
    {
     "data": {
      "text/plain": [
       "523"
      ]
     },
     "execution_count": 11,
     "metadata": {},
     "output_type": "execute_result"
    }
   ],
   "source": [
    "len(movie_lists)"
   ]
  },
  {
   "cell_type": "code",
   "execution_count": 13,
   "id": "78429c74",
   "metadata": {},
   "outputs": [],
   "source": [
    "# Checkpoint\n",
    "\n",
    "import json\n",
    "\n",
    "def save_data(title,data):\n",
    "    with open(title, 'w', encoding='utf-8') as f:\n",
    "        json.dump(data, f, ensure_ascii=False, indent=4)\n",
    "        \n",
    "def load_data(title):\n",
    "    with open(title, 'w', encoding='utf-8') as f:\n",
    "        return json.load(f)\n"
   ]
  },
  {
   "cell_type": "code",
   "execution_count": 14,
   "id": "6bcd090a",
   "metadata": {},
   "outputs": [],
   "source": [
    "save_data('Disney Movies Dataset(without cleaning).json', movie_lists)"
   ]
  },
  {
   "cell_type": "markdown",
   "id": "1329379f",
   "metadata": {},
   "source": [
    "## 3. Data Cleaning\n",
    "\n",
    "- Cleaning the reference link and duplicated date\n",
    "- Fixing the name tags(long strings)\n",
    "- Looking into the error that were generated via creation of the movielist\n",
    "- Taking the numeric value only from the Running Time Col\n",
    "- Converting the budget and box office amount to proper numberic values\n",
    "- Converting the Date to Datetime"
   ]
  },
  {
   "cell_type": "code",
   "execution_count": 15,
   "id": "f90c16a9",
   "metadata": {},
   "outputs": [],
   "source": [
    "def mins_to_int(x):\n",
    "    if x == 'N/A':\n",
    "        return None\n",
    "    \n",
    "    if isinstance(x,list):\n",
    "        entry=x[0]\n",
    "        time= int(entry.split(' ')[0])\n",
    "        return time\n",
    "    else:\n",
    "        \n",
    "        time= int(x.split(' ')[0])\n",
    "        return time\n",
    "\n",
    "for x in movie_lists:\n",
    "    x['Running Time Fixed']= mins_to_int(x.get('Running time','N/A'))"
   ]
  },
  {
   "cell_type": "code",
   "execution_count": 16,
   "id": "29c7de6e",
   "metadata": {},
   "outputs": [
    {
     "name": "stdout",
     "output_type": "stream",
     "text": [
      "[83, 88, 126, 74, 64, 70, 42, 65, 71, 75, 94, 73, 75, 82, 68, 74, 96, 75, 84, 77, 92, 69, 81, 60, 127, 93, 76, 75, 73, 85, 81, 70, 90, 80, 75, 84, 83, 72, 97, 75, 104, 93, 105, 95, 97, 134, 69, 92, 126, 79, 97, 128, 73, 91, 105, 98, 130, 89, 93, 67, 98, 100, 118, 103, 110, 80, 74, 91, 91, 97, 118, 139, 131, 92, 87, 116, 93, 110, 110, 131, 101, 108, 84, 78, 75, 164, 106, 110, 99, 113, 108, 102, 85, 91, 93, 100, 100, 79, 96, 113, 89, 117, 92, 88, 92, 87, 93, 93, 93, 90, 83, 96, 88, 89, 91, 93, 92, 97, 100, 100, 89, None, 91, 112, 115, 95, 91, 97, 104, 74, 48, 77, 104, 128, 101, 94, 104, 90, 100, 88, 93, 98, 112, 84, 97, 97, 114, 96, 97, 109, 83, 90, 107, 96, 103, 91, 95, 105, 113, 80, 101, 90, 74, 90, 89, 110, 74, 93, 84, 83, 74, 77, 107, 93, 88, 108, 84, 121, 89, 104, 90, 86, 84, 108, 107, 96, 98, 105, 108, 94, 106, 102, 88, 102, 102, 97, 111, 100, 96, 96, 78, 81, 108, 89, 99, 89, 81, 92, 100, 89, 79, 91, 101, 104, 103, 86, 106, 74, 93, 92, 98, 95, 93, 87, 93, 87, 128, 77, 86, 95, 114, 93, 83, 83, 88, 78, 112, 92, 78, 72, 82, 75, 104, 75, 113, 100, 78, 83, 69, 96, 115, 86, 92, 65, 95, 73, 73, 68, 128, 85, 88, 125, 96, 104, 95, 74, 72, 88, 75, 61, 117, 94, 100, 143, 96, 64, 87, 85, 87, 50, 74, 136, 78, 85, 65, 76, 40, 120, 84, 113, 67, 115, 67, 131, 100, 79, 68, 95, 97, 72, 100, 119, 100, 76, 68, 67, 120, 81, 143, 72, 118, 40, 72, 120, 99, 82, 117, 72, 150, 104, 73, 76, 92, 69, 70, 95, 94, 169, 111, 85, 82, 87, 110, 107, 124, 74, 82, 150, 97, 77, 91, 100, 112, 93, 78, 96, 99, 76, 98, 97, 99, 101, 96, None, 90, 101, 107, 82, 101, 96, 88, 97, 108, 104, 116, 103, 109, 115, 74, 79, 123, 108, 100, 125, None, 84, 90, 88, 109, 89, 104, 137, 106, 63, 88, 103, 93, 95, 132, 77, 96, 93, 100, 89, 87, 75, 101, 130, 77, 104, 149, 92, 81, 102, 125, 107, 78, 77, 124, 97, 84, 127, 81, 102, 124, 129, 76, 106, 82, 130, 95, 154, 97, 117, 108, 106, 99, 113, 97, 118, 103, 124, 107, 161, 86, 129, 76, 129, 102, None, 162, 114, 105, 109, 118, 104, 99, 112, 131, 112, 76, 128, 100, 118, 119, 104, 100, 103, 114, 99, 102, 107, 78, 86, 95, 160, 85, 100, 95, 115, 110, 122, 101, 121, 95, 107, 134, 95, 128, 102, 58, 108, 82, 100, 107, 91, 84, 97, 105, 105, 111, 105, 103, 120, None, 70, None, None, None, None, 95, 118, 102, None, None, 81, 70, None, None, 93, 91, 78, 85, 124, None, 83, 107, None, 79, 74, 468, 108, None]\n"
     ]
    }
   ],
   "source": [
    "print([x.get('Running Time Fixed')for x in movie_lists])"
   ]
  },
  {
   "cell_type": "code",
   "execution_count": 17,
   "id": "94a6e460",
   "metadata": {},
   "outputs": [],
   "source": [
    "pattern_number= r'\\d+(,\\d{3})*\\.*\\d*'\n",
    "pattern_amount= r'thousand|million|billion'\n",
    "\n",
    "\n",
    "value_convert = rf'\\${pattern_number}'\n",
    "word_convert= rf'\\$({pattern_number})(-|\\sto\\s|-)?({pattern_number})?\\s({pattern_amount})'\n",
    "\n",
    "def word_to_value(word):\n",
    "    V={'thousand':1000,'million':1000000,'billion':1000000000}\n",
    "    return V[word]\n",
    "\n",
    "def main_method(x):\n",
    "    value = re.search(pattern_number,x).group()\n",
    "    value1 = float(value.replace(',',''))\n",
    "    word = re.search(pattern_amount,x, flags=re.I).group().lower()\n",
    "    word_value = word_to_value(word)\n",
    "    total = word_value * value1\n",
    "    return total\n",
    "\n",
    "\n",
    "def method2(x):\n",
    "    value = re.search(pattern_number,x).group()\n",
    "    value1 = float(value.replace(',',''))\n",
    "    return value1\n",
    "\n",
    "def value_conversion(money):\n",
    "    \n",
    "    if money == 'N/A':\n",
    "        return None\n",
    "    \n",
    "    if isinstance(money,list):\n",
    "        money = money[0]\n",
    "    \n",
    "    money_syntax=re.search(value_convert, money)\n",
    "    word_syntax =re.search(word_convert, money,flags=re.I)\n",
    "    \n",
    "    \n",
    "    if word_syntax:\n",
    "        return main_method(word_syntax.group())\n",
    "    \n",
    "    elif money_syntax:\n",
    "        return method2(money_syntax.group())\n",
    "    else:\n",
    "        return None"
   ]
  },
  {
   "cell_type": "code",
   "execution_count": 18,
   "id": "98504a41",
   "metadata": {},
   "outputs": [],
   "source": [
    "for x in movie_lists:\n",
    "    x['Budget_Fixed']= value_conversion(x.get('Budget', 'N/A'))\n",
    "    x['Box office_Fixed']= value_conversion(x.get('Box office','N/A'))"
   ]
  },
  {
   "cell_type": "code",
   "execution_count": 19,
   "id": "699fcff0",
   "metadata": {},
   "outputs": [
    {
     "name": "stdout",
     "output_type": "stream",
     "text": [
      "[1490000.0, 2600000.0, 2280000.0, 600000.0, 950000.0, 858000.0, None, 788000.0, None, 1350000.0, 2125000.0, None, 1500000.0, 1500000.0, None, 2200000.0, 1800000.0, 3000000.0, None, 4000000.0, 2000000.0, 300000.0, 1800000.0, None, 5000000.0, None, 4000000.0, None, None, None, None, None, None, 700000.0, None, None, None, None, None, 6000000.0, 1000000.0, None, 2000000.0, None, None, 2500000.0, None, None, 4000000.0, 3600000.0, None, None, None, None, 3000000.0, None, 3000000.0, None, None, None, None, None, None, None, None, None, 3000000.0, None, None, None, None, 4.4, None, None, None, None, None, None, None, None, None, None, None, 4000000.0, None, 5000000.0, None, None, None, None, 5000000.0, None, None, None, None, None, None, 4000000.0, None, None, None, 6300000.0, None, None, None, None, None, None, None, None, 5000000.0, None, None, None, None, 8000000.0, None, None, None, None, None, None, 1000000.0, None, None, None, None, 5000000.0, None, None, None, 7500000.0, None, 10000000.0, None, None, 3500000.0, None, None, None, 5250000.0, 20000000.0, None, 9000000.0, None, 6000000.0, 20000000.0, None, None, 18000000.0, 12000000.0, 14000000.0, 10000000.0, 17000000.0, 5000000.0, 8000000.0, 20000000.0, 11000000.0, 28000000.0, 44000000.0, None, None, 14000000.0, 9000000.0, None, 8700000.0, 31000000.0, 18000000.0, 5000000.0, 40000000.0, 20000000.0, None, 14000000.0, 8700000.0, None, 35000000.0, 25000000.0, 15000000.0, 32000000.0, 14000000.0, 28000000.0, 12000000.0, None, None, 6500000.0, 28000000.0, 17000000.0, 30000000.0, None, 13000000.0, None, None, 45000000.0, 31000000.0, None, 22000000.0, 30000000.0, None, 22000000.0, 32000000.0, 18000000.0, 55000000.0, 24000000.0, 15000000.0, 12000000.0, None, 30000000.0, None, 31000000.0, None, 38000000.0, 70000000.0, 15000000.0, None, 67000000.0, None, 32000000.0, 7000000.0, 85000000.0, 55000000.0, 3000000.0, 16000000.0, 80000000.0, 30000000.0, 24000000.0, 90000000.0, 15000000.0, None, 30000000.0, 120000000.0, 90000000.0, 65000000.0, 5000000.0, None, 130000000.0, 75.0, 10000000.0, 90000000.0, 15000000.0, 4000000.0, 127500000.0, 85000000.0, 65000000.0, None, 30000000.0, 85000000.0, 100000000.0, 23000000.0, None, 90.0, 26000000.0, 25000000.0, 115000000.0, None, 33000000.0, 20000000.0, 5000000.0, None, 22000000.0, 80000000.0, 35000000.0, 19200000.0, 15000000.0, 65000000.0, 140000000.0, None, 20000000.0, 12000000.0, 46000000.0, 13000000.0, 20000000.0, 17000000.0, 94000000.0, 140000000.0, 26000000.0, None, None, 46000000.0, 90000000.0, None, 10000000.0, 28000000.0, None, 15000000.0, None, 110000000.0, None, 110000000.0, None, 45000000.0, None, 92.0, None, 100000000.0, None, None, 20000000.0, 56000000.0, 25000000.0, None, 50000000.0, None, 35000000.0, 35000000.0, None, None, 25000000.0, 150000000.0, 180000000.0, None, 30000000.0, 1000000.0, None, 40000000.0, 50000000.0, 80000000.0, 120000000.0, None, 225000000.0, 30000000.0, None, 24000000.0, 12000000.0, None, 8000000.0, 17000000.0, 150000000.0, 300000000.0, 150000000.0, None, 25000000.0, None, 22000000.0, 85000000.0, 130000000.0, 7000000.0, 25000000.0, 225000000.0, 180000000.0, None, 20000000.0, None, 11000000.0, None, 50000000.0, 150000000.0, 80000000.0, None, 50000000.0, 30000000.0, 47000000.0, None, 175000000.0, None, 150000000.0, None, None, 35000000.0, 8000000.0, 175.0, 35000000.0, 105000000.0, 200000000.0, 80000000.0, 150.0, 200000000.0, 150000000.0, 22000000.0, None, 35000000.0, 35000000.0, None, 260000000.0, 170000000.0, None, None, None, 150000000.0, None, 5000000.0, 8000000.0, 410600000.0, 200000000.0, 30000000.0, None, 45000000.0, None, 23000000.0, 306600000.0, 5000000.0, None, 185000000.0, 25000000.0, None, 39000000.0, 30.0, 165000000.0, 200000000.0, None, 200000000.0, 225.0, 50000000.0, None, 150000000.0, 35000000.0, 50000000.0, None, 5000000.0, 25000000.0, 180.0, 50000000.0, 2900000.0, 28000000.0, 165000000.0, 50000000.0, 17000000.0, None, 84210000.0, 5.0, 180.0, 175000000.0, None, 175.0, 70.0, 150000000.0, 175.0, None, 170000000.0, 200000000.0, 140000000.0, 65000000.0, 15000000.0, 150.0, None, 8000000.0, 160.0, 5.0, 230.0, 175000000.0, None, None, 8000000.0, 175.0, 100.0, 200000000.0, 65000000.0, 120.0, 175000000.0, 130000000.0, 170000000.0, None, 183000000.0, 200000000.0, 250.0, 185000000.0, 60000000.0, None, 150000000.0, 40000000.0, 42000000.0, 175.0, None, None, None, 125000000.0, 12500000.0, None, 24000000.0, None, 200000000.0, None, 26000000.0, 150000000.0, None, None, 100000000.0, 100.0, None, 200000000.0, 120.0, None, None, None, 175000000.0, None, 36000000.0, None, 70000000.0, None, 200000000.0, None, None, 40000000.0, None, None, None, None, None, None, None, 175000000.0, 250.0, 11000000.0, None, None, 28000000.0, 858000.0, 53400000.0, None, 85000000.0, 70000000.0, 75.0, 80000000.0, 130000000.0, None, 5000000.0, 18000000.0, None, 4000000.0, 3000000.0, None, 35000000.0, None]\n"
     ]
    }
   ],
   "source": [
    "print([x.get('Budget_Fixed','N/A')for x in movie_lists])"
   ]
  },
  {
   "cell_type": "code",
   "execution_count": 22,
   "id": "a8166b65",
   "metadata": {
    "scrolled": false
   },
   "outputs": [
    {
     "name": "stdout",
     "output_type": "stream",
     "text": [
      "[418000000.0, 164000000.0, 83300000.0, 960000.0, 1300000.0, 267399999.99999997, 1135000.0, 799000.0, 3355000.0, 3275000.0, 65000000.0, 3165000.0, 2560000.0, 3700000.0, 1625000.0, 182000000.0, 4100000.0, 2400000.0, 2100000.0, 87400000.0, 1000000.0, 2600000.0, None, 1750000.0, 28200000.0, 2150000.0, 187000000.0, 2100000.0, 1600000.0, 1700000.0, None, None, 2750000.0, None, 1750000.0, 6250000.0, None, 1800000.0, 2500000.0, 51600000.0, 12300000.0, None, 1700000.0, 3100000.0, None, 3750000.0, 2300000.0, None, 40000000.0, 303000000.0, 11426000.0, 25100000.0, None, None, 4600000.0, 3500000.0, 5000000.0, None, None, None, 21745500.0, 22100000.0, 2550000.0, 3000000.0, 4350000.0, 4200000.0, 22200000.0, 1600000.0, 4000000.0, 2250000.0, 3500000.0, 103100000.0, 3500000.0, 1275000.0, 4000000.0, 28068222.0, 6200000.0, 22565634.0, None, 16207116.0, 3000000.0, 1900000.0, 4000000.0, 378000000.0, None, 5000000.0, 21540050.0, 2250000.0, 4150000.0, 3300000.0, 51300000.0, 1300000.0, None, 5500000.0, None, 18607492.0, 4000000.0, 191000000.0, None, None, 5100000.0, 17900000.0, None, 4610000.0, None, None, 6100000.0, 22583370.0, None, 2000000.0, 33000000.0, 7000000.0, 38229000.0, 4000000.0, None, 10000000.0, 6600000.0, 20000000.0, 36853000.0, 5500000.0, None, None, None, None, None, 21873000.0, 10500000.0, 36000000.0, None, None, None, 169000000.0, 29000000.0, 36.0, None, None, None, None, None, 20931111.0, 4475000.0, 35800000.0, 2900000.0, 5000000.0, 18000000.0, 11000000.0, 60000000.0, 16000000.0, None, 14100000.0, 63500000.0, None, 8000000.0, 50000000.0, 7400000.0, 4304286.0, 8400000.0, 27600000.0, 11100000.0, 21300000.0, 9700000.0, 13000000.0, 38700000.0, 18564613.0, 22300000.0, 13687027.0, 121000000.0, 222700000.0, 8153677.0, None, 18100000.0, 47400000.0, 41000000.0, 15100000.0, 7300000.0, 46700000.0, 440100000.0, 2800000.0, 96000000.0, 50800000.0, 504100000.0, 27200000.0, 57000000.0, 12900000.0, 24100000.0, 45400000.0, 154900000.0, 111000000.0, 21000000.0, 39000000.0, 45600000.0, 8878839.0, 968500000.0, 50200000.0, 3337685.0, 190300000.0, 70700000.0, 17600000.0, 40070995.0, 8199999.999999999, 37600000.0, 346100000.0, 24670346.0, 13400000.0, 17700000.0, None, 363000000.0, 23900000.0, 34300000.0, 32700000.000000004, 37700000.0, 325300000.0, 26465920.0, 22900000.0, 320700000.0, 18300000.0, 59900000.0, None, 252700000.0, 174400000.0, 27800000.0, 15400000.0, 178000000.0, 28900000.0, 4400000.0, 304300000.0, 92100000.0, None, 12200000.0, 363300000.0, 50600000.0, 36800000.0, 19400000.0, None, 448200000.0, 134400000.0, 6200000.0, 511300000.0, 96200000.0, 500000.0, 349800000.0, 90900000.0, 110300000.0, None, 136800000.0, 183600000.0, 169600000.0, 44500000.0, None, 186100000.0, 165300000.0, 18600000.0, 577400000.0, None, 115000000.0, 115100000.0, None, None, 80700000.0, 273100000.0, 18000000.0, 395800000.0, 19300000.0, 172900000.0, 110000000.0, None, 135700000.0, None, 62900000.0, 28700000.0, 71400000.0, 55500000.0, 940300000.0, 654300000.0, 160800000.0, None, None, 250400000.0, 182300000.0, 9638389.0, 6500000.0, 64500000.0, None, 33299999.999999996, None, 145500000.0, 1108356.0, 72200000.0, 314402.0, 134700000.0, None, 631600000.0, None, 347500000.0, 9000000.0, None, 52900000.0, 198600000.0, 27600000.0, None, 144100000.0, None, 86400000.0, 61700000.0, None, None, 15400000.0, 314400000.0, 745000000.0, None, 42900000.0, 11000000.0, 35000000.0, 120500000.0, 87100000.0, 102300000.0, 462000000.0, None, 1066000000.0, 58500000.0, None, 91500000.0, 110800000.0, None, None, 137600000.0, 169300000.0, 960900000.0, 623700000.0, None, 65300000.0, None, 146600000.0, 340500000.0, 459200000.0, 70600000.0, 51500000.0, 419700000.0, 521299999.99999994, None, 149300000.0, 275776.0, 252900000.0, 2000000.0, 9200000.0, 310000000.0, 212900000.0, 23100000.0, 106400000.0, 155500000.0, 109000000.0, 55513.0, 735100000.0, None, 292800000.0, None, None, 8582265.0, 11300000.0, 325000000.0, 96800000.0, 271000000.0, 1024999999.9999999, 82700000.0, 336400000.0, 1067000000.0, 215300000.0, None, None, 10872752.0, 60300000.0, None, 592400000.0, 400100000.0, None, 29600000.0, None, 39200000.0, None, 30900000.0, 10700000.0, 1046000000.0, 559800000.0, 50100000.0, None, 165200000.0, None, 146000000.0, 284100000.0, 34800000.0, None, 540400000.0, 56000000.0, 12200000.0, 81500000.0, 67500000.0, 496500000.0, 493300000.0, None, 743600000.0, 260500000.0, 239300000.0, None, 1280000000.0, 117900000.0, 80400000.0, 64900000.00000001, 21300000.0, 40200000.0, 758500000.0, 147000000.0, 9900000.0, 100600000.0, 657900000.0, 213100000.0, 45700000.0, 31200000.0, 542400000.0, 17100000.0, 209000000.0, 858800000.0, None, 332200000.0, 52100000.0, 1024000000.0, 966600000.0, 17000000.0, 299500000.0, 1028999999.9999999, 195200000.0, 143700000.0, 10400000.0, 645000000.0, None, 127400000.0, 1264000000.0, 25100000.0, 794900000.0, 383900000.0, None, None, 30500000.0, 807800000.0, 132699999.99999999, 1243000000.0, 197700000.0, 174000000.0, 529299999.99999994, 349500000.0, 353300000.0, 7.7, None, 1073000000.0, 1663000000.0, 491700000.0, None, None, 1450000000.0, None, None, 142000000.0, None, None, None, None, None, None, None, None, 70000000.0, None, None, 121000000.0, None, None, 130400000.0, 233500000.0, 49800000.0, 220900000.0, 256800000.0, None, None, None, 20100000.0, None, None, None, 675500.0, None, 226400000.0, None, None, None, None, None, None, None, None, None, None, 858800000.0, 1663000000.0, 240000000.0, None, None, 100600000.0, 267399999.99999997, None, None, 252700000.0, 325300000.0, 134400000.0, 273100000.0, 459200000.0, None, 33000000.0, 9697739.0, None, 191000000.0, 22200000.0, None, 46700000.0, None]\n"
     ]
    }
   ],
   "source": [
    "print([x.get('Box office_Fixed','N/A')for x in movie_lists])"
   ]
  },
  {
   "cell_type": "code",
   "execution_count": 23,
   "id": "b050f0a2",
   "metadata": {},
   "outputs": [],
   "source": [
    "from datetime import datetime\n",
    "\n",
    "dates = [x.get('Release date','N/A') for x in movie_lists]\n",
    "\n",
    "def clean_date(date):\n",
    "    return date.split('(')[0].strip()\n",
    "    \n",
    "\n",
    "def convert_date(date):\n",
    "    if isinstance(date,list):\n",
    "        date=date[0]\n",
    "        \n",
    "    if date == 'N/A':\n",
    "        return None\n",
    "    \n",
    "    final_date= clean_date(date)\n",
    "   \n",
    "   \n",
    "    fmts = ['%B %d, %Y','%d %B %Y']\n",
    "    for fmt in fmts:\n",
    "        try:\n",
    "            return datetime.strptime(final_date, fmt)\n",
    "        except:\n",
    "            pass\n",
    "    return None"
   ]
  },
  {
   "cell_type": "code",
   "execution_count": 24,
   "id": "b0edea3e",
   "metadata": {},
   "outputs": [],
   "source": [
    "for x in movie_lists:\n",
    "    x['Release time fmt']=convert_date(x.get('Release date','N/A'))"
   ]
  },
  {
   "cell_type": "code",
   "execution_count": 25,
   "id": "1bbad5a0",
   "metadata": {},
   "outputs": [
    {
     "name": "stdout",
     "output_type": "stream",
     "text": [
      "[None, None, datetime.datetime(1940, 11, 13, 0, 0), datetime.datetime(1941, 6, 27, 0, 0), None, None, None, datetime.datetime(1943, 7, 17, 0, 0), None, None, None, datetime.datetime(1947, 9, 27, 0, 0), datetime.datetime(1948, 5, 27, 0, 0), None, datetime.datetime(1949, 10, 5, 0, 0), None, None, None, None, datetime.datetime(1953, 2, 5, 0, 0), datetime.datetime(1953, 7, 23, 0, 0), datetime.datetime(1953, 11, 10, 0, 0), None, datetime.datetime(1954, 8, 17, 0, 0), datetime.datetime(1954, 12, 23, 0, 0), datetime.datetime(1955, 5, 25, 0, 0), datetime.datetime(1955, 6, 22, 0, 0), datetime.datetime(1955, 9, 14, 0, 0), datetime.datetime(1955, 12, 22, 0, 0), datetime.datetime(1956, 6, 8, 0, 0), datetime.datetime(1956, 7, 18, 0, 0), datetime.datetime(1956, 9, 4, 0, 0), datetime.datetime(1956, 12, 20, 0, 0), datetime.datetime(1957, 6, 19, 0, 0), datetime.datetime(1957, 8, 28, 0, 0), datetime.datetime(1957, 12, 25, 0, 0), datetime.datetime(1958, 7, 8, 0, 0), datetime.datetime(1958, 8, 12, 0, 0), datetime.datetime(1958, 12, 25, 0, 0), datetime.datetime(1959, 1, 29, 0, 0), datetime.datetime(1959, 3, 19, 0, 0), None, datetime.datetime(1959, 11, 10, 0, 0), datetime.datetime(1960, 1, 21, 0, 0), datetime.datetime(1960, 2, 24, 0, 0), datetime.datetime(1960, 5, 19, 0, 0), None, datetime.datetime(1960, 11, 1, 0, 0), datetime.datetime(1960, 12, 21, 0, 0), datetime.datetime(1961, 1, 25, 0, 0), datetime.datetime(1961, 3, 16, 0, 0), datetime.datetime(1961, 6, 21, 0, 0), datetime.datetime(1961, 7, 12, 0, 0), datetime.datetime(1961, 7, 17, 0, 0), datetime.datetime(1961, 12, 14, 0, 0), datetime.datetime(1962, 4, 5, 0, 0), datetime.datetime(1962, 5, 17, 0, 0), datetime.datetime(1962, 6, 6, 0, 0), datetime.datetime(1962, 9, 26, 0, 0), datetime.datetime(1962, 11, 7, 0, 0), None, datetime.datetime(1963, 1, 16, 0, 0), datetime.datetime(1963, 3, 29, 0, 0), datetime.datetime(1963, 6, 1, 0, 0), datetime.datetime(1963, 7, 7, 0, 0), datetime.datetime(1963, 11, 20, 0, 0), None, datetime.datetime(1964, 3, 12, 0, 0), datetime.datetime(1964, 2, 11, 0, 0), None, datetime.datetime(1964, 7, 2, 0, 0), None, datetime.datetime(1964, 11, 10, 0, 0), datetime.datetime(1964, 12, 18, 0, 0), datetime.datetime(1965, 8, 18, 0, 0), datetime.datetime(1965, 12, 2, 0, 0), None, None, datetime.datetime(1966, 10, 1, 0, 0), datetime.datetime(1966, 12, 1, 0, 0), datetime.datetime(1967, 2, 8, 0, 0), datetime.datetime(1967, 6, 15, 0, 0), datetime.datetime(1967, 7, 12, 0, 0), datetime.datetime(1967, 10, 18, 0, 0), datetime.datetime(1967, 10, 19, 0, 0), None, datetime.datetime(1968, 2, 8, 0, 0), datetime.datetime(1968, 3, 21, 0, 0), datetime.datetime(1968, 6, 26, 0, 0), datetime.datetime(1968, 12, 3, 0, 0), None, datetime.datetime(1969, 3, 21, 0, 0), datetime.datetime(1969, 6, 11, 0, 0), datetime.datetime(1969, 11, 28, 0, 0), datetime.datetime(1970, 2, 11, 0, 0), datetime.datetime(1970, 7, 1, 0, 0), datetime.datetime(1970, 12, 15, 0, 0), None, datetime.datetime(1971, 3, 17, 0, 0), datetime.datetime(1971, 6, 22, 0, 0), datetime.datetime(1971, 6, 30, 0, 0), datetime.datetime(1971, 10, 7, 0, 0), datetime.datetime(1972, 3, 22, 0, 0), datetime.datetime(1972, 7, 12, 0, 0), datetime.datetime(1972, 7, 5, 0, 0), datetime.datetime(1972, 10, 18, 0, 0), datetime.datetime(1972, 12, 22, 0, 0), datetime.datetime(1973, 2, 1, 0, 0), datetime.datetime(1973, 3, 23, 0, 0), datetime.datetime(1973, 6, 20, 0, 0), datetime.datetime(1973, 11, 8, 0, 0), datetime.datetime(1973, 12, 14, 0, 0), datetime.datetime(1974, 6, 6, 0, 0), datetime.datetime(1974, 7, 31, 0, 0), datetime.datetime(1974, 8, 1, 0, 0), datetime.datetime(1974, 12, 20, 0, 0), datetime.datetime(1975, 2, 6, 0, 0), datetime.datetime(1975, 3, 21, 0, 0), datetime.datetime(1975, 7, 1, 0, 0), datetime.datetime(1975, 7, 9, 0, 0), datetime.datetime(1975, 10, 8, 0, 0), None, datetime.datetime(1975, 12, 25, 0, 0), datetime.datetime(1976, 2, 11, 0, 0), datetime.datetime(1976, 7, 1, 0, 0), datetime.datetime(1976, 7, 7, 0, 0), datetime.datetime(1976, 12, 16, 0, 0), None, None, datetime.datetime(1977, 3, 11, 0, 0), datetime.datetime(1977, 6, 20, 0, 0), datetime.datetime(1977, 6, 22, 0, 0), datetime.datetime(1977, 6, 24, 0, 0), datetime.datetime(1977, 11, 3, 0, 0), datetime.datetime(1977, 12, 16, 0, 0), datetime.datetime(1978, 3, 10, 0, 0), datetime.datetime(1978, 6, 30, 0, 0), datetime.datetime(1978, 7, 5, 0, 0), datetime.datetime(1979, 2, 9, 0, 0), datetime.datetime(1979, 6, 27, 0, 0), None, None, datetime.datetime(1980, 2, 8, 0, 0), None, datetime.datetime(1980, 6, 27, 0, 0), datetime.datetime(1980, 7, 9, 0, 0), None, datetime.datetime(1981, 2, 11, 0, 0), datetime.datetime(1981, 3, 20, 0, 0), datetime.datetime(1981, 6, 26, 0, 0), datetime.datetime(1981, 7, 10, 0, 0), datetime.datetime(1981, 8, 7, 0, 0), datetime.datetime(1982, 2, 5, 0, 0), datetime.datetime(1982, 7, 9, 0, 0), datetime.datetime(1982, 7, 30, 0, 0), datetime.datetime(1983, 3, 11, 0, 0), datetime.datetime(1983, 4, 29, 0, 0), None, datetime.datetime(1985, 6, 21, 0, 0), datetime.datetime(1985, 7, 24, 0, 0), datetime.datetime(1985, 9, 27, 0, 0), datetime.datetime(1985, 11, 22, 0, 0), datetime.datetime(1986, 7, 2, 0, 0), datetime.datetime(1986, 8, 1, 0, 0), datetime.datetime(1987, 6, 5, 0, 0), None, datetime.datetime(1988, 11, 18, 0, 0), datetime.datetime(1989, 6, 23, 0, 0), datetime.datetime(1989, 8, 18, 0, 0), datetime.datetime(1989, 11, 17, 0, 0), datetime.datetime(1990, 8, 3, 0, 0), datetime.datetime(1990, 11, 16, 0, 0), datetime.datetime(1991, 1, 18, 0, 0), None, datetime.datetime(1991, 5, 24, 0, 0), datetime.datetime(1991, 6, 21, 0, 0), None, datetime.datetime(1992, 4, 10, 0, 0), datetime.datetime(1992, 7, 17, 0, 0), datetime.datetime(1992, 10, 2, 0, 0), datetime.datetime(1992, 11, 11, 0, 0), datetime.datetime(1992, 12, 11, 0, 0), datetime.datetime(1993, 2, 3, 0, 0), datetime.datetime(1993, 3, 12, 0, 0), datetime.datetime(1993, 4, 2, 0, 0), datetime.datetime(1993, 7, 16, 0, 0), datetime.datetime(1993, 10, 1, 0, 0), datetime.datetime(1993, 11, 12, 0, 0), datetime.datetime(1994, 1, 14, 0, 0), datetime.datetime(1994, 2, 11, 0, 0), datetime.datetime(1994, 3, 25, 0, 0), datetime.datetime(1994, 4, 14, 0, 0), datetime.datetime(1994, 6, 15, 0, 0), datetime.datetime(1994, 7, 15, 0, 0), datetime.datetime(1994, 10, 28, 0, 0), None, datetime.datetime(1994, 12, 25, 0, 0), datetime.datetime(1995, 2, 17, 0, 0), datetime.datetime(1995, 3, 3, 0, 0), datetime.datetime(1995, 3, 24, 0, 0), datetime.datetime(1995, 4, 7, 0, 0), datetime.datetime(1995, 6, 16, 0, 0), datetime.datetime(1995, 7, 28, 0, 0), datetime.datetime(1995, 8, 11, 0, 0), datetime.datetime(1995, 9, 27, 0, 0), None, None, datetime.datetime(1995, 12, 22, 0, 0), datetime.datetime(1996, 2, 16, 0, 0), datetime.datetime(1996, 3, 8, 0, 0), None, None, datetime.datetime(1996, 8, 30, 0, 0), datetime.datetime(1996, 10, 4, 0, 0), None, datetime.datetime(1997, 2, 14, 0, 0), None, datetime.datetime(1997, 3, 18, 0, 0), datetime.datetime(1997, 6, 13, 0, 0), datetime.datetime(1997, 7, 16, 0, 0), datetime.datetime(1997, 8, 1, 0, 0), datetime.datetime(1997, 10, 10, 0, 0), None, datetime.datetime(1997, 12, 25, 0, 0), datetime.datetime(1998, 3, 27, 0, 0), None, datetime.datetime(1998, 7, 29, 0, 0), datetime.datetime(1998, 9, 29, 0, 0), datetime.datetime(1998, 11, 13, 0, 0), datetime.datetime(1998, 11, 20, 0, 0), datetime.datetime(1998, 12, 25, 0, 0), datetime.datetime(1999, 2, 12, 0, 0), datetime.datetime(1999, 3, 26, 0, 0), None, None, datetime.datetime(1999, 7, 23, 0, 0), None, None, datetime.datetime(2000, 2, 11, 0, 0), datetime.datetime(2000, 3, 10, 0, 0), datetime.datetime(2000, 5, 19, 0, 0), None, datetime.datetime(2000, 7, 7, 0, 0), datetime.datetime(2000, 9, 19, 0, 0), datetime.datetime(2000, 9, 29, 0, 0), datetime.datetime(2000, 11, 22, 0, 0), None, None, datetime.datetime(2001, 2, 27, 0, 0), None, None, datetime.datetime(2001, 10, 5, 0, 0), None, datetime.datetime(2001, 11, 3, 0, 0), datetime.datetime(2002, 1, 18, 0, 0), None, datetime.datetime(2002, 2, 26, 0, 0), datetime.datetime(2002, 3, 19, 0, 0), datetime.datetime(2002, 3, 29, 0, 0), None, None, datetime.datetime(2001, 7, 20, 0, 0), datetime.datetime(2002, 10, 11, 0, 0), None, None, datetime.datetime(2003, 1, 21, 0, 0), datetime.datetime(2003, 2, 14, 0, 0), datetime.datetime(2003, 3, 11, 0, 0), None, None, datetime.datetime(2003, 4, 18, 0, 0), datetime.datetime(2003, 5, 2, 0, 0), datetime.datetime(2003, 5, 30, 0, 0), None, None, datetime.datetime(2003, 8, 26, 0, 0), datetime.datetime(2003, 10, 21, 0, 0), datetime.datetime(2003, 11, 1, 0, 0), datetime.datetime(2003, 11, 26, 0, 0), datetime.datetime(2003, 12, 25, 0, 0), datetime.datetime(2004, 1, 16, 0, 0), datetime.datetime(2004, 2, 20, 0, 0), datetime.datetime(2004, 2, 10, 0, 0), datetime.datetime(2004, 2, 17, 0, 0), datetime.datetime(2004, 3, 9, 0, 0), datetime.datetime(2004, 4, 2, 0, 0), datetime.datetime(2004, 4, 22, 0, 0), datetime.datetime(2004, 6, 16, 0, 0), datetime.datetime(2004, 7, 2, 0, 0), datetime.datetime(2004, 8, 11, 0, 0), datetime.datetime(2004, 8, 17, 0, 0), None, datetime.datetime(2004, 11, 9, 0, 0), datetime.datetime(2004, 11, 19, 0, 0), datetime.datetime(2005, 1, 28, 0, 0), datetime.datetime(2004, 11, 3, 0, 0), datetime.datetime(2005, 2, 11, 0, 0), datetime.datetime(2005, 3, 4, 0, 0), datetime.datetime(2005, 3, 18, 0, 0), datetime.datetime(2005, 6, 14, 0, 0), None, None, datetime.datetime(2005, 7, 29, 0, 0), None, datetime.datetime(2005, 8, 30, 0, 0), datetime.datetime(2005, 9, 13, 0, 0), datetime.datetime(2005, 9, 30, 0, 0), None, None, datetime.datetime(2005, 12, 13, 0, 0), datetime.datetime(2006, 1, 13, 0, 0), datetime.datetime(2006, 1, 27, 0, 0), None, datetime.datetime(2006, 2, 17, 0, 0), datetime.datetime(2006, 3, 10, 0, 0), datetime.datetime(2006, 4, 14, 0, 0), None, None, None, datetime.datetime(2006, 8, 25, 0, 0), datetime.datetime(2006, 8, 29, 0, 0), None, datetime.datetime(2006, 11, 3, 0, 0), datetime.datetime(2006, 12, 12, 0, 0), datetime.datetime(2007, 2, 6, 0, 0), datetime.datetime(2007, 2, 16, 0, 0), None, None, None, None, datetime.datetime(2007, 8, 3, 0, 0), datetime.datetime(2007, 8, 28, 0, 0), None, None, datetime.datetime(2007, 12, 21, 0, 0), datetime.datetime(2008, 2, 1, 0, 0), datetime.datetime(2008, 3, 7, 0, 0), None, None, datetime.datetime(2008, 8, 26, 0, 0), datetime.datetime(2008, 10, 3, 0, 0), datetime.datetime(2008, 10, 17, 0, 0), None, None, datetime.datetime(2008, 10, 28, 0, 0), datetime.datetime(2008, 11, 21, 0, 0), datetime.datetime(2008, 12, 25, 0, 0), datetime.datetime(2009, 2, 27, 0, 0), None, datetime.datetime(2009, 4, 10, 0, 0), None, None, None, None, datetime.datetime(2009, 7, 24, 0, 0), datetime.datetime(2008, 7, 19, 0, 0), None, None, datetime.datetime(2009, 10, 29, 0, 0), None, datetime.datetime(2009, 11, 25, 0, 0), None, None, None, None, None, None, datetime.datetime(2006, 7, 29, 0, 0), None, None, None, datetime.datetime(2010, 10, 8, 0, 0), None, None, datetime.datetime(2011, 1, 14, 0, 0), datetime.datetime(2011, 2, 1, 0, 0), datetime.datetime(2011, 2, 17, 0, 0), None, datetime.datetime(2011, 4, 22, 0, 0), None, datetime.datetime(2011, 4, 29, 0, 0), None, None, None, datetime.datetime(2011, 9, 20, 0, 0), None, datetime.datetime(2012, 1, 31, 0, 0), datetime.datetime(2010, 7, 17, 0, 0), None, None, datetime.datetime(2012, 5, 25, 0, 0), None, datetime.datetime(2012, 8, 15, 0, 0), datetime.datetime(2012, 9, 18, 0, 0), None, None, None, None, None, None, None, None, datetime.datetime(2013, 8, 27, 0, 0), None, None, None, None, datetime.datetime(2014, 4, 18, 0, 0), None, None, None, datetime.datetime(2014, 9, 19, 0, 0), None, None, None, None, None, None, datetime.datetime(2015, 4, 17, 0, 0), None, None, datetime.datetime(2015, 6, 19, 0, 0), None, None, None, None, None, None, None, None, None, None, None, None, datetime.datetime(2005, 6, 24, 0, 0), None, None, None, None, datetime.datetime(2017, 6, 30, 0, 0), datetime.datetime(2017, 7, 14, 0, 0), datetime.datetime(2017, 10, 29, 0, 0), None, None, None, None, None, None, None, None, datetime.datetime(2019, 4, 17, 0, 0), None, None, None, datetime.datetime(2019, 10, 18, 0, 0), datetime.datetime(2019, 11, 12, 0, 0), datetime.datetime(2019, 11, 12, 0, 0), None, datetime.datetime(2019, 12, 20, 0, 0), None, None, datetime.datetime(2020, 3, 13, 0, 0), None, datetime.datetime(2020, 4, 3, 0, 0), datetime.datetime(2020, 6, 12, 0, 0), datetime.datetime(2020, 7, 3, 0, 0), datetime.datetime(2020, 7, 31, 0, 0), datetime.datetime(2020, 8, 14, 0, 0), datetime.datetime(2020, 8, 21, 0, 0), None, datetime.datetime(2020, 12, 4, 0, 0), datetime.datetime(2020, 12, 11, 0, 0), None, None, datetime.datetime(2021, 2, 19, 0, 0), datetime.datetime(2021, 3, 5, 0, 0), None, None, None, None, datetime.datetime(2021, 12, 3, 0, 0), datetime.datetime(2021, 12, 23, 0, 0), None, None, None, None, datetime.datetime(2022, 4, 22, 0, 0), None, None, None, datetime.datetime(2022, 6, 24, 0, 0), datetime.datetime(2022, 9, 8, 0, 0), datetime.datetime(2022, 9, 30, 0, 0), datetime.datetime(2022, 11, 18, 0, 0), datetime.datetime(2022, 11, 23, 0, 0), datetime.datetime(2022, 12, 2, 0, 0), datetime.datetime(2022, 12, 9, 0, 0), datetime.datetime(2023, 5, 26, 0, 0), datetime.datetime(2023, 8, 11, 0, 0), datetime.datetime(2024, 3, 22, 0, 0), None, None, datetime.datetime(1987, 11, 25, 0, 0), None, None, None, None, None, None, datetime.datetime(1997, 6, 13, 0, 0), None, datetime.datetime(1999, 7, 23, 0, 0), None, datetime.datetime(2007, 12, 21, 0, 0), None, datetime.datetime(1973, 11, 8, 0, 0), datetime.datetime(1986, 6, 6, 0, 0), None, None, None, None, datetime.datetime(1991, 6, 21, 0, 0), None]\n"
     ]
    }
   ],
   "source": [
    "print([x.get('Release time fmt','N/A')for x in movie_lists])"
   ]
  },
  {
   "cell_type": "code",
   "execution_count": 28,
   "id": "a0a5fe64",
   "metadata": {},
   "outputs": [
    {
     "data": {
      "text/plain": [
       "{'Title': 'Fantasia',\n",
       " 'Directed by': ['Samuel Armstrong',\n",
       "  'James Algar',\n",
       "  'Bill Roberts',\n",
       "  'Paul Satterfield',\n",
       "  'Ben Sharpsteen',\n",
       "  'David D. Hand',\n",
       "  'Hamilton Luske',\n",
       "  'Jim Handley',\n",
       "  'Ford Beebe',\n",
       "  'T. Hee',\n",
       "  'Norman Ferguson',\n",
       "  'Wilfred Jackson'],\n",
       " 'Story by': ['Joe Grant', 'Dick Huemer'],\n",
       " 'Produced by': ['Walt Disney', 'Ben Sharpsteen'],\n",
       " 'Starring': ['Leopold Stokowski', 'Deems Taylor'],\n",
       " 'Narrated by': 'Deems Taylor',\n",
       " 'Cinematography': 'James Wong Howe',\n",
       " 'Music by': 'See program',\n",
       " 'Production company': 'Walt Disney Productions',\n",
       " 'Distributed by': 'RKO Radio Pictures',\n",
       " 'Release date': ['November 13, 1940'],\n",
       " 'Running time': '126 minutes',\n",
       " 'Country': 'United States',\n",
       " 'Language': 'English',\n",
       " 'Budget': '$2.28 million',\n",
       " 'Box office': '$76.4–$83.3 million (United States and Canada)',\n",
       " 'Running Time Fixed': 126,\n",
       " 'Budget_Fixed': 2280000.0,\n",
       " 'Box office_Fixed': 83300000.0,\n",
       " 'Release time fmt': datetime.datetime(1940, 11, 13, 0, 0)}"
      ]
     },
     "execution_count": 28,
     "metadata": {},
     "output_type": "execute_result"
    }
   ],
   "source": [
    "movie_lists[2]"
   ]
  },
  {
   "cell_type": "code",
   "execution_count": 30,
   "id": "df82ba68",
   "metadata": {},
   "outputs": [],
   "source": [
    "# Checkpoint2 \n",
    "# Had to use pickle over json as datetime cant be stored in json\n",
    "\n",
    "import pickle\n",
    "\n",
    "def save_data_pickle(name,data):\n",
    "    with open(name,'wb') as f:\n",
    "        pickle.dump(data,f)\n",
    "        \n",
    "def load_data_pickle(name):\n",
    "    with open(name,'rb') as f:\n",
    "        return pickle.load(f)"
   ]
  },
  {
   "cell_type": "code",
   "execution_count": 31,
   "id": "4de847a2",
   "metadata": {},
   "outputs": [],
   "source": [
    "save_data_pickle('Disney Movies Dataset(Cleaned).pickle',movie_lists)"
   ]
  },
  {
   "cell_type": "markdown",
   "id": "4ac3add7",
   "metadata": {},
   "source": [
    "## 4. Attaching Review Scores(Rotten Tomatoes, Metascore, IMDB) with move database api"
   ]
  },
  {
   "cell_type": "code",
   "execution_count": 32,
   "id": "50ac976d",
   "metadata": {},
   "outputs": [],
   "source": [
    "import requests\n",
    "import os\n",
    "import urllib\n",
    "\n",
    "def omdb(title):\n",
    "    base_url ='http://www.omdbapi.com/?'\n",
    "    parameters = {'apikey': os.environ['OMDB_API_KEY'],'t':title}\n",
    "    parameters_encode = urllib.parse.urlencode(parameters)\n",
    "    full_url= base_url + parameters_encode\n",
    "    \n",
    "    return requests.get(full_url).json()\n",
    "\n",
    "def rotten_tomato(info):\n",
    "    ratings = info.get('Ratings',[])\n",
    "    for rating in ratings:\n",
    "        if rating['Source'] == 'Rotten Tomatoes':\n",
    "            return rating['Value']\n",
    "    return None"
   ]
  },
  {
   "cell_type": "code",
   "execution_count": 33,
   "id": "40ca6232",
   "metadata": {},
   "outputs": [],
   "source": [
    "for x in movie_lists:\n",
    "    title=x['Title']\n",
    "    omdb_info=omdb(title)\n",
    "    x['imdb']=omdb_info.get('imdbRating',None)\n",
    "    x['metascore']=omdb_info.get('Metascore',None)\n",
    "    x['rotten_tomatoes']= rotten_tomato(omdb_info)"
   ]
  },
  {
   "cell_type": "code",
   "execution_count": 34,
   "id": "5ce34fdb",
   "metadata": {},
   "outputs": [
    {
     "data": {
      "text/plain": [
       "{'Title': 'Fantasia',\n",
       " 'Directed by': ['Samuel Armstrong',\n",
       "  'James Algar',\n",
       "  'Bill Roberts',\n",
       "  'Paul Satterfield',\n",
       "  'Ben Sharpsteen',\n",
       "  'David D. Hand',\n",
       "  'Hamilton Luske',\n",
       "  'Jim Handley',\n",
       "  'Ford Beebe',\n",
       "  'T. Hee',\n",
       "  'Norman Ferguson',\n",
       "  'Wilfred Jackson'],\n",
       " 'Story by': ['Joe Grant', 'Dick Huemer'],\n",
       " 'Produced by': ['Walt Disney', 'Ben Sharpsteen'],\n",
       " 'Starring': ['Leopold Stokowski', 'Deems Taylor'],\n",
       " 'Narrated by': 'Deems Taylor',\n",
       " 'Cinematography': 'James Wong Howe',\n",
       " 'Music by': 'See program',\n",
       " 'Production company': 'Walt Disney Productions',\n",
       " 'Distributed by': 'RKO Radio Pictures',\n",
       " 'Release date': ['November 13, 1940'],\n",
       " 'Running time': '126 minutes',\n",
       " 'Country': 'United States',\n",
       " 'Language': 'English',\n",
       " 'Budget': '$2.28 million',\n",
       " 'Box office': '$76.4–$83.3 million (United States and Canada)',\n",
       " 'Running Time Fixed': 126,\n",
       " 'Budget_Fixed': 2280000.0,\n",
       " 'Box office_Fixed': 83300000.0,\n",
       " 'Release time fmt': datetime.datetime(1940, 11, 13, 0, 0),\n",
       " 'imdb': '7.7',\n",
       " 'metascore': '96',\n",
       " 'rotten_tomatoes': '95%'}"
      ]
     },
     "execution_count": 34,
     "metadata": {},
     "output_type": "execute_result"
    }
   ],
   "source": [
    "movie_lists[2]"
   ]
  },
  {
   "cell_type": "code",
   "execution_count": 35,
   "id": "76a2fd3a",
   "metadata": {},
   "outputs": [],
   "source": [
    "# Checkpoint 3\n",
    "\n",
    "save_data_pickle('Disney Movies Dataset(Finalized).pickle',movie_lists)"
   ]
  },
  {
   "cell_type": "code",
   "execution_count": 36,
   "id": "e7c81c0e",
   "metadata": {},
   "outputs": [],
   "source": [
    "movie_lists_copy=[x.copy() for x in movie_lists]"
   ]
  },
  {
   "cell_type": "code",
   "execution_count": 37,
   "id": "d5a7aff6",
   "metadata": {},
   "outputs": [],
   "source": [
    "for x in movie_lists_copy:\n",
    "    current=x['Release time fmt']\n",
    "    if current:\n",
    "        x['Release time fmt']=current.strftime('%B %d,%Y')\n",
    "    else:\n",
    "        x['Release time fmt']= None"
   ]
  },
  {
   "cell_type": "code",
   "execution_count": 38,
   "id": "205a14cc",
   "metadata": {},
   "outputs": [
    {
     "data": {
      "text/plain": [
       "{'Title': 'Fantasia',\n",
       " 'Directed by': ['Samuel Armstrong',\n",
       "  'James Algar',\n",
       "  'Bill Roberts',\n",
       "  'Paul Satterfield',\n",
       "  'Ben Sharpsteen',\n",
       "  'David D. Hand',\n",
       "  'Hamilton Luske',\n",
       "  'Jim Handley',\n",
       "  'Ford Beebe',\n",
       "  'T. Hee',\n",
       "  'Norman Ferguson',\n",
       "  'Wilfred Jackson'],\n",
       " 'Story by': ['Joe Grant', 'Dick Huemer'],\n",
       " 'Produced by': ['Walt Disney', 'Ben Sharpsteen'],\n",
       " 'Starring': ['Leopold Stokowski', 'Deems Taylor'],\n",
       " 'Narrated by': 'Deems Taylor',\n",
       " 'Cinematography': 'James Wong Howe',\n",
       " 'Music by': 'See program',\n",
       " 'Production company': 'Walt Disney Productions',\n",
       " 'Distributed by': 'RKO Radio Pictures',\n",
       " 'Release date': ['November 13, 1940'],\n",
       " 'Running time': '126 minutes',\n",
       " 'Country': 'United States',\n",
       " 'Language': 'English',\n",
       " 'Budget': '$2.28 million',\n",
       " 'Box office': '$76.4–$83.3 million (United States and Canada)',\n",
       " 'Running Time Fixed': 126,\n",
       " 'Budget_Fixed': 2280000.0,\n",
       " 'Box office_Fixed': 83300000.0,\n",
       " 'Release time fmt': 'November 13,1940',\n",
       " 'imdb': '7.7',\n",
       " 'metascore': '96',\n",
       " 'rotten_tomatoes': '95%'}"
      ]
     },
     "execution_count": 38,
     "metadata": {},
     "output_type": "execute_result"
    }
   ],
   "source": [
    "movie_lists_copy[2]"
   ]
  },
  {
   "cell_type": "code",
   "execution_count": 39,
   "id": "b0a8f2ef",
   "metadata": {},
   "outputs": [],
   "source": [
    "save_data(\"Web Scrapping Project(Disney Movies'Dataset.json\",movie_lists_copy)"
   ]
  },
  {
   "cell_type": "markdown",
   "id": "d2c973f9",
   "metadata": {},
   "source": [
    "## 5. Converting the Dictionary into dataframe and export it as csv"
   ]
  },
  {
   "cell_type": "code",
   "execution_count": 42,
   "id": "9ea2d3b2",
   "metadata": {},
   "outputs": [],
   "source": [
    "df=pd.DataFrame(movie_lists)"
   ]
  },
  {
   "cell_type": "code",
   "execution_count": 43,
   "id": "33fa6b68",
   "metadata": {},
   "outputs": [],
   "source": [
    "df.to_csv(\"Web Scraping Project(Disney Movies'Dataset).csv\")"
   ]
  },
  {
   "cell_type": "code",
   "execution_count": 44,
   "id": "e627e287",
   "metadata": {},
   "outputs": [
    {
     "data": {
      "text/html": [
       "<div>\n",
       "<style scoped>\n",
       "    .dataframe tbody tr th:only-of-type {\n",
       "        vertical-align: middle;\n",
       "    }\n",
       "\n",
       "    .dataframe tbody tr th {\n",
       "        vertical-align: top;\n",
       "    }\n",
       "\n",
       "    .dataframe thead th {\n",
       "        text-align: right;\n",
       "    }\n",
       "</style>\n",
       "<table border=\"1\" class=\"dataframe\">\n",
       "  <thead>\n",
       "    <tr style=\"text-align: right;\">\n",
       "      <th></th>\n",
       "      <th>Title</th>\n",
       "      <th>Directed by</th>\n",
       "      <th>Written by</th>\n",
       "      <th>Based on</th>\n",
       "      <th>Produced by</th>\n",
       "      <th>Starring</th>\n",
       "      <th>Music by</th>\n",
       "      <th>Production company</th>\n",
       "      <th>Distributed by</th>\n",
       "      <th>Release dates</th>\n",
       "      <th>...</th>\n",
       "      <th>Traditional</th>\n",
       "      <th>Simplified</th>\n",
       "      <th>Original title</th>\n",
       "      <th>Layouts by</th>\n",
       "      <th>Music</th>\n",
       "      <th>Lyrics</th>\n",
       "      <th>Book</th>\n",
       "      <th>Basis</th>\n",
       "      <th>Productions</th>\n",
       "      <th>Awards</th>\n",
       "    </tr>\n",
       "  </thead>\n",
       "  <tbody>\n",
       "    <tr>\n",
       "      <th>0</th>\n",
       "      <td>Snow White and the Seven Dwarfs</td>\n",
       "      <td>[David Hand, William Cottrell, Wilfred Jackson...</td>\n",
       "      <td>[Ted Sears, Richard Creedon, Otto Englander, D...</td>\n",
       "      <td>[Snow White, by The, Brothers Grimm]</td>\n",
       "      <td>Walt Disney</td>\n",
       "      <td>[Adriana Caselotti, Lucille La Verne, Harry St...</td>\n",
       "      <td>[Frank Churchill, Paul Smith, Leigh Harline]</td>\n",
       "      <td>Walt Disney Productions</td>\n",
       "      <td>RKO Radio Pictures</td>\n",
       "      <td>[December 21, 1937 ( Carthay Circle Theatre ),...</td>\n",
       "      <td>...</td>\n",
       "      <td>NaN</td>\n",
       "      <td>NaN</td>\n",
       "      <td>NaN</td>\n",
       "      <td>NaN</td>\n",
       "      <td>NaN</td>\n",
       "      <td>NaN</td>\n",
       "      <td>NaN</td>\n",
       "      <td>NaN</td>\n",
       "      <td>NaN</td>\n",
       "      <td>NaN</td>\n",
       "    </tr>\n",
       "    <tr>\n",
       "      <th>1</th>\n",
       "      <td>Pinocchio</td>\n",
       "      <td>[Ben Sharpsteen, Hamilton Luske, Bill Roberts,...</td>\n",
       "      <td>NaN</td>\n",
       "      <td>[The Adventures of Pinocchio, by, Carlo Collodi]</td>\n",
       "      <td>Walt Disney</td>\n",
       "      <td>[Cliff Edwards, Dickie Jones, Christian Rub, W...</td>\n",
       "      <td>[Leigh Harline, Paul J. Smith]</td>\n",
       "      <td>Walt Disney Productions</td>\n",
       "      <td>RKO Radio Pictures</td>\n",
       "      <td>[February 7, 1940 ( Center Theatre ), February...</td>\n",
       "      <td>...</td>\n",
       "      <td>NaN</td>\n",
       "      <td>NaN</td>\n",
       "      <td>NaN</td>\n",
       "      <td>NaN</td>\n",
       "      <td>NaN</td>\n",
       "      <td>NaN</td>\n",
       "      <td>NaN</td>\n",
       "      <td>NaN</td>\n",
       "      <td>NaN</td>\n",
       "      <td>NaN</td>\n",
       "    </tr>\n",
       "    <tr>\n",
       "      <th>2</th>\n",
       "      <td>Fantasia</td>\n",
       "      <td>[Samuel Armstrong, James Algar, Bill Roberts, ...</td>\n",
       "      <td>NaN</td>\n",
       "      <td>NaN</td>\n",
       "      <td>[Walt Disney, Ben Sharpsteen]</td>\n",
       "      <td>[Leopold Stokowski, Deems Taylor]</td>\n",
       "      <td>See program</td>\n",
       "      <td>Walt Disney Productions</td>\n",
       "      <td>RKO Radio Pictures</td>\n",
       "      <td>NaN</td>\n",
       "      <td>...</td>\n",
       "      <td>NaN</td>\n",
       "      <td>NaN</td>\n",
       "      <td>NaN</td>\n",
       "      <td>NaN</td>\n",
       "      <td>NaN</td>\n",
       "      <td>NaN</td>\n",
       "      <td>NaN</td>\n",
       "      <td>NaN</td>\n",
       "      <td>NaN</td>\n",
       "      <td>NaN</td>\n",
       "    </tr>\n",
       "    <tr>\n",
       "      <th>3</th>\n",
       "      <td>The Reluctant Dragon</td>\n",
       "      <td>[Alfred Werker, (live action), Hamilton Luske,...</td>\n",
       "      <td>[Live-action:, Ted Sears, Al Perkins, Larry Cl...</td>\n",
       "      <td>NaN</td>\n",
       "      <td>Walt Disney</td>\n",
       "      <td>[Robert Benchley, Frances Gifford, Buddy Peppe...</td>\n",
       "      <td>[Frank Churchill, Larry Morey]</td>\n",
       "      <td>Walt Disney Productions</td>\n",
       "      <td>RKO Radio Pictures</td>\n",
       "      <td>NaN</td>\n",
       "      <td>...</td>\n",
       "      <td>NaN</td>\n",
       "      <td>NaN</td>\n",
       "      <td>NaN</td>\n",
       "      <td>NaN</td>\n",
       "      <td>NaN</td>\n",
       "      <td>NaN</td>\n",
       "      <td>NaN</td>\n",
       "      <td>NaN</td>\n",
       "      <td>NaN</td>\n",
       "      <td>NaN</td>\n",
       "    </tr>\n",
       "    <tr>\n",
       "      <th>4</th>\n",
       "      <td>Dumbo</td>\n",
       "      <td>[Ben Sharpsteen, Norman Ferguson, Wilfred Jack...</td>\n",
       "      <td>NaN</td>\n",
       "      <td>[Dumbo, the Flying Elephant, by, Helen Aberson...</td>\n",
       "      <td>Walt Disney</td>\n",
       "      <td>[Edward Brophy, Verna Felton, Cliff Edwards, H...</td>\n",
       "      <td>[Frank Churchill, Oliver Wallace]</td>\n",
       "      <td>Walt Disney Productions</td>\n",
       "      <td>RKO Radio Pictures</td>\n",
       "      <td>[October 23, 1941 (New York City), October 31,...</td>\n",
       "      <td>...</td>\n",
       "      <td>NaN</td>\n",
       "      <td>NaN</td>\n",
       "      <td>NaN</td>\n",
       "      <td>NaN</td>\n",
       "      <td>NaN</td>\n",
       "      <td>NaN</td>\n",
       "      <td>NaN</td>\n",
       "      <td>NaN</td>\n",
       "      <td>NaN</td>\n",
       "      <td>NaN</td>\n",
       "    </tr>\n",
       "  </tbody>\n",
       "</table>\n",
       "<p>5 rows × 46 columns</p>\n",
       "</div>"
      ],
      "text/plain": [
       "                             Title  \\\n",
       "0  Snow White and the Seven Dwarfs   \n",
       "1                        Pinocchio   \n",
       "2                         Fantasia   \n",
       "3             The Reluctant Dragon   \n",
       "4                            Dumbo   \n",
       "\n",
       "                                         Directed by  \\\n",
       "0  [David Hand, William Cottrell, Wilfred Jackson...   \n",
       "1  [Ben Sharpsteen, Hamilton Luske, Bill Roberts,...   \n",
       "2  [Samuel Armstrong, James Algar, Bill Roberts, ...   \n",
       "3  [Alfred Werker, (live action), Hamilton Luske,...   \n",
       "4  [Ben Sharpsteen, Norman Ferguson, Wilfred Jack...   \n",
       "\n",
       "                                          Written by  \\\n",
       "0  [Ted Sears, Richard Creedon, Otto Englander, D...   \n",
       "1                                                NaN   \n",
       "2                                                NaN   \n",
       "3  [Live-action:, Ted Sears, Al Perkins, Larry Cl...   \n",
       "4                                                NaN   \n",
       "\n",
       "                                            Based on  \\\n",
       "0               [Snow White, by The, Brothers Grimm]   \n",
       "1   [The Adventures of Pinocchio, by, Carlo Collodi]   \n",
       "2                                                NaN   \n",
       "3                                                NaN   \n",
       "4  [Dumbo, the Flying Elephant, by, Helen Aberson...   \n",
       "\n",
       "                     Produced by  \\\n",
       "0                    Walt Disney   \n",
       "1                    Walt Disney   \n",
       "2  [Walt Disney, Ben Sharpsteen]   \n",
       "3                    Walt Disney   \n",
       "4                    Walt Disney   \n",
       "\n",
       "                                            Starring  \\\n",
       "0  [Adriana Caselotti, Lucille La Verne, Harry St...   \n",
       "1  [Cliff Edwards, Dickie Jones, Christian Rub, W...   \n",
       "2                  [Leopold Stokowski, Deems Taylor]   \n",
       "3  [Robert Benchley, Frances Gifford, Buddy Peppe...   \n",
       "4  [Edward Brophy, Verna Felton, Cliff Edwards, H...   \n",
       "\n",
       "                                       Music by       Production company  \\\n",
       "0  [Frank Churchill, Paul Smith, Leigh Harline]  Walt Disney Productions   \n",
       "1                [Leigh Harline, Paul J. Smith]  Walt Disney Productions   \n",
       "2                                   See program  Walt Disney Productions   \n",
       "3                [Frank Churchill, Larry Morey]  Walt Disney Productions   \n",
       "4             [Frank Churchill, Oliver Wallace]  Walt Disney Productions   \n",
       "\n",
       "       Distributed by                                      Release dates  ...  \\\n",
       "0  RKO Radio Pictures  [December 21, 1937 ( Carthay Circle Theatre ),...  ...   \n",
       "1  RKO Radio Pictures  [February 7, 1940 ( Center Theatre ), February...  ...   \n",
       "2  RKO Radio Pictures                                                NaN  ...   \n",
       "3  RKO Radio Pictures                                                NaN  ...   \n",
       "4  RKO Radio Pictures  [October 23, 1941 (New York City), October 31,...  ...   \n",
       "\n",
       "  Traditional Simplified Original title Layouts by Music  Lyrics  Book  Basis  \\\n",
       "0         NaN        NaN            NaN        NaN   NaN     NaN   NaN    NaN   \n",
       "1         NaN        NaN            NaN        NaN   NaN     NaN   NaN    NaN   \n",
       "2         NaN        NaN            NaN        NaN   NaN     NaN   NaN    NaN   \n",
       "3         NaN        NaN            NaN        NaN   NaN     NaN   NaN    NaN   \n",
       "4         NaN        NaN            NaN        NaN   NaN     NaN   NaN    NaN   \n",
       "\n",
       "  Productions Awards  \n",
       "0         NaN    NaN  \n",
       "1         NaN    NaN  \n",
       "2         NaN    NaN  \n",
       "3         NaN    NaN  \n",
       "4         NaN    NaN  \n",
       "\n",
       "[5 rows x 46 columns]"
      ]
     },
     "execution_count": 44,
     "metadata": {},
     "output_type": "execute_result"
    }
   ],
   "source": [
    "df.head()"
   ]
  },
  {
   "cell_type": "code",
   "execution_count": 45,
   "id": "0e8352e9",
   "metadata": {},
   "outputs": [
    {
     "data": {
      "text/plain": [
       "(523, 46)"
      ]
     },
     "execution_count": 45,
     "metadata": {},
     "output_type": "execute_result"
    }
   ],
   "source": [
    "df.shape"
   ]
  },
  {
   "cell_type": "code",
   "execution_count": 46,
   "id": "005212cb",
   "metadata": {},
   "outputs": [
    {
     "name": "stdout",
     "output_type": "stream",
     "text": [
      "<class 'pandas.core.frame.DataFrame'>\n",
      "RangeIndex: 523 entries, 0 to 522\n",
      "Data columns (total 46 columns):\n",
      " #   Column                Non-Null Count  Dtype         \n",
      "---  ------                --------------  -----         \n",
      " 0   Title                 523 non-null    object        \n",
      " 1   Directed by           519 non-null    object        \n",
      " 2   Written by            213 non-null    object        \n",
      " 3   Based on              289 non-null    object        \n",
      " 4   Produced by           510 non-null    object        \n",
      " 5   Starring              483 non-null    object        \n",
      " 6   Music by              514 non-null    object        \n",
      " 7   Production company    210 non-null    object        \n",
      " 8   Distributed by        521 non-null    object        \n",
      " 9   Release dates         187 non-null    object        \n",
      " 10  Running time          507 non-null    object        \n",
      " 11  Country               463 non-null    object        \n",
      " 12  Language              498 non-null    object        \n",
      " 13  Budget                325 non-null    object        \n",
      " 14  Box office            404 non-null    object        \n",
      " 15  Running Time Fixed    507 non-null    float64       \n",
      " 16  Budget_Fixed          316 non-null    float64       \n",
      " 17  Box office_Fixed      393 non-null    float64       \n",
      " 18  Release time fmt      326 non-null    datetime64[ns]\n",
      " 19  imdb                  506 non-null    object        \n",
      " 20  metascore             506 non-null    object        \n",
      " 21  rotten_tomatoes       382 non-null    object        \n",
      " 22  Story by              178 non-null    object        \n",
      " 23  Narrated by           63 non-null     object        \n",
      " 24  Cinematography        397 non-null    object        \n",
      " 25  Release date          331 non-null    object        \n",
      " 26  Edited by             476 non-null    object        \n",
      " 27  Languages             23 non-null     object        \n",
      " 28  Screenplay by         262 non-null    object        \n",
      " 29  Countries             54 non-null     object        \n",
      " 30  Color process         7 non-null      object        \n",
      " 31  Production companies  310 non-null    object        \n",
      " 32  Japanese              5 non-null      object        \n",
      " 33  Hepburn               5 non-null      object        \n",
      " 34  Adaptation by         1 non-null      object        \n",
      " 35  Animation by          1 non-null      object        \n",
      " 36  Traditional           2 non-null      object        \n",
      " 37  Simplified            2 non-null      object        \n",
      " 38  Original title        1 non-null      object        \n",
      " 39  Layouts by            2 non-null      object        \n",
      " 40  Music                 2 non-null      object        \n",
      " 41  Lyrics                2 non-null      object        \n",
      " 42  Book                  2 non-null      object        \n",
      " 43  Basis                 2 non-null      object        \n",
      " 44  Productions           2 non-null      object        \n",
      " 45  Awards                2 non-null      object        \n",
      "dtypes: datetime64[ns](1), float64(3), object(42)\n",
      "memory usage: 188.1+ KB\n"
     ]
    }
   ],
   "source": [
    "df.info()"
   ]
  },
  {
   "cell_type": "code",
   "execution_count": null,
   "id": "2a3d4bec",
   "metadata": {},
   "outputs": [],
   "source": []
  }
 ],
 "metadata": {
  "kernelspec": {
   "display_name": "Python 3 (ipykernel)",
   "language": "python",
   "name": "python3"
  },
  "language_info": {
   "codemirror_mode": {
    "name": "ipython",
    "version": 3
   },
   "file_extension": ".py",
   "mimetype": "text/x-python",
   "name": "python",
   "nbconvert_exporter": "python",
   "pygments_lexer": "ipython3",
   "version": "3.9.12"
  }
 },
 "nbformat": 4,
 "nbformat_minor": 5
}
